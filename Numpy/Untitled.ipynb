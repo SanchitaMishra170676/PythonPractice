{
 "cells": [
  {
   "cell_type": "code",
   "execution_count": 1,
   "id": "374061ca",
   "metadata": {},
   "outputs": [],
   "source": [
    "import numpy as np"
   ]
  },
  {
   "cell_type": "code",
   "execution_count": 2,
   "id": "c7ed310b",
   "metadata": {},
   "outputs": [
    {
     "name": "stdout",
     "output_type": "stream",
     "text": [
      "Hello World\n"
     ]
    }
   ],
   "source": [
    "print(\"Hello World\")"
   ]
  },
  {
   "cell_type": "code",
   "execution_count": 3,
   "id": "0890dc8d",
   "metadata": {},
   "outputs": [
    {
     "name": "stdout",
     "output_type": "stream",
     "text": [
      "this\n"
     ]
    }
   ],
   "source": [
    "print(\"this\")"
   ]
  },
  {
   "cell_type": "code",
   "execution_count": 4,
   "id": "48bbd5c2",
   "metadata": {},
   "outputs": [
    {
     "name": "stdout",
     "output_type": "stream",
     "text": [
      "[[1], [2], [3], [4], [10, 11, 12]]\n"
     ]
    }
   ],
   "source": [
    "myList = [[1],[2],[3],[4],[10,11,12]]\n",
    "print(myList)"
   ]
  },
  {
   "cell_type": "code",
   "execution_count": 25,
   "id": "33b19eac",
   "metadata": {},
   "outputs": [],
   "source": [
    "myArray = np.array([[1,2],[2,3],[3,4]])"
   ]
  },
  {
   "cell_type": "code",
   "execution_count": 26,
   "id": "a9f539b2",
   "metadata": {},
   "outputs": [
    {
     "data": {
      "text/plain": [
       "(3, 2)"
      ]
     },
     "execution_count": 26,
     "metadata": {},
     "output_type": "execute_result"
    }
   ],
   "source": [
    "myArray.shape"
   ]
  },
  {
   "cell_type": "code",
   "execution_count": 27,
   "id": "4170fcdf",
   "metadata": {},
   "outputs": [
    {
     "data": {
      "text/plain": [
       "dtype('int32')"
      ]
     },
     "execution_count": 27,
     "metadata": {},
     "output_type": "execute_result"
    }
   ],
   "source": [
    "myArray.dtype"
   ]
  },
  {
   "cell_type": "code",
   "execution_count": 28,
   "id": "6c38192e",
   "metadata": {},
   "outputs": [
    {
     "data": {
      "text/plain": [
       "6"
      ]
     },
     "execution_count": 28,
     "metadata": {},
     "output_type": "execute_result"
    }
   ],
   "source": [
    "myArray.size"
   ]
  },
  {
   "cell_type": "code",
   "execution_count": null,
   "id": "b4b8d075",
   "metadata": {},
   "outputs": [],
   "source": []
  }
 ],
 "metadata": {
  "kernelspec": {
   "display_name": "Python 3 (ipykernel)",
   "language": "python",
   "name": "python3"
  },
  "language_info": {
   "codemirror_mode": {
    "name": "ipython",
    "version": 3
   },
   "file_extension": ".py",
   "mimetype": "text/x-python",
   "name": "python",
   "nbconvert_exporter": "python",
   "pygments_lexer": "ipython3",
   "version": "3.11.1"
  }
 },
 "nbformat": 4,
 "nbformat_minor": 5
}
