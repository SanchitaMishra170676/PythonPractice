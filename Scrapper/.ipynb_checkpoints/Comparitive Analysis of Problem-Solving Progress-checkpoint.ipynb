{
 "cells": [
  {
   "cell_type": "code",
   "execution_count": 1,
   "id": "980ebef3",
   "metadata": {},
   "outputs": [
    {
     "name": "stdout",
     "output_type": "stream",
     "text": [
      "Hello\n"
     ]
    }
   ],
   "source": [
    "print(\"Hello\")"
   ]
  },
  {
   "cell_type": "code",
   "execution_count": 2,
   "id": "93e79aa8",
   "metadata": {},
   "outputs": [],
   "source": [
    "from selenium import webdriver\n",
    "from selenium.webdriver.common.by import By\n",
    "from selenium.webdriver.support.ui import WebDriverWait\n",
    "from selenium.webdriver.support import expected_conditions as EC\n",
    "from selenium.webdriver.chrome.options import Options\n",
    "import re"
   ]
  },
  {
   "cell_type": "code",
   "execution_count": 3,
   "id": "ee9abf3b",
   "metadata": {},
   "outputs": [],
   "source": [
    "#Data extraction\n",
    "import numpy as np \n",
    "import pandas as pd"
   ]
  },
  {
   "cell_type": "code",
   "execution_count": 4,
   "id": "d304eba8",
   "metadata": {},
   "outputs": [
    {
     "data": {
      "text/html": [
       "<div>\n",
       "<style scoped>\n",
       "    .dataframe tbody tr th:only-of-type {\n",
       "        vertical-align: middle;\n",
       "    }\n",
       "\n",
       "    .dataframe tbody tr th {\n",
       "        vertical-align: top;\n",
       "    }\n",
       "\n",
       "    .dataframe thead th {\n",
       "        text-align: right;\n",
       "    }\n",
       "</style>\n",
       "<table border=\"1\" class=\"dataframe\">\n",
       "  <thead>\n",
       "    <tr style=\"text-align: right;\">\n",
       "      <th></th>\n",
       "      <th>Name</th>\n",
       "      <th>Codechef</th>\n",
       "      <th>Codeforces</th>\n",
       "      <th>Spoj</th>\n",
       "      <th>Leetcode</th>\n",
       "      <th>Gfg</th>\n",
       "    </tr>\n",
       "  </thead>\n",
       "  <tbody>\n",
       "    <tr>\n",
       "      <th>0</th>\n",
       "      <td>sanchita</td>\n",
       "      <td>sanchita170676</td>\n",
       "      <td>sanchita170676</td>\n",
       "      <td>lakshay0510</td>\n",
       "      <td>sanchitamishra170676</td>\n",
       "      <td>sanchitamishra170676</td>\n",
       "    </tr>\n",
       "    <tr>\n",
       "      <th>1</th>\n",
       "      <td>Hem Kishan</td>\n",
       "      <td>vyas_7275</td>\n",
       "      <td>hem_7275</td>\n",
       "      <td>hem_7275</td>\n",
       "      <td>hem_7275</td>\n",
       "      <td>hem_7275</td>\n",
       "    </tr>\n",
       "  </tbody>\n",
       "</table>\n",
       "</div>"
      ],
      "text/plain": [
       "         Name        Codechef      Codeforces         Spoj  \\\n",
       "0    sanchita  sanchita170676  sanchita170676  lakshay0510   \n",
       "1  Hem Kishan       vyas_7275        hem_7275     hem_7275   \n",
       "\n",
       "               Leetcode                   Gfg  \n",
       "0  sanchitamishra170676  sanchitamishra170676  \n",
       "1              hem_7275              hem_7275  "
      ]
     },
     "execution_count": 4,
     "metadata": {},
     "output_type": "execute_result"
    }
   ],
   "source": [
    "codingProfileData = pd.read_csv(\"coding-profile-data.csv\")\n",
    "codingProfileData"
   ]
  },
  {
   "cell_type": "code",
   "execution_count": 5,
   "id": "27110908",
   "metadata": {},
   "outputs": [
    {
     "name": "stdout",
     "output_type": "stream",
     "text": [
      "sanchita\n",
      "Hem Kishan\n"
     ]
    }
   ],
   "source": [
    "for ind in codingProfileData.index:\n",
    "    print(codingProfileData.loc[ind,\"Name\"])"
   ]
  },
  {
   "cell_type": "code",
   "execution_count": 6,
   "id": "7b25b7f8",
   "metadata": {},
   "outputs": [
    {
     "data": {
      "text/html": [
       "<div>\n",
       "<style scoped>\n",
       "    .dataframe tbody tr th:only-of-type {\n",
       "        vertical-align: middle;\n",
       "    }\n",
       "\n",
       "    .dataframe tbody tr th {\n",
       "        vertical-align: top;\n",
       "    }\n",
       "\n",
       "    .dataframe thead th {\n",
       "        text-align: right;\n",
       "    }\n",
       "</style>\n",
       "<table border=\"1\" class=\"dataframe\">\n",
       "  <thead>\n",
       "    <tr style=\"text-align: right;\">\n",
       "      <th></th>\n",
       "    </tr>\n",
       "  </thead>\n",
       "  <tbody>\n",
       "  </tbody>\n",
       "</table>\n",
       "</div>"
      ],
      "text/plain": [
       "Empty DataFrame\n",
       "Columns: []\n",
       "Index: []"
      ]
     },
     "execution_count": 6,
     "metadata": {},
     "output_type": "execute_result"
    }
   ],
   "source": [
    "profileStatsDataFrame = pd.DataFrame()\n",
    "profileStatsDataFrame"
   ]
  },
  {
   "cell_type": "code",
   "execution_count": 7,
   "id": "6948c6e0",
   "metadata": {},
   "outputs": [],
   "source": [
    "class ProfileScraper():\n",
    "    def __init__(self, name, codechef, codeforces,spoj,leetcode,gfg):\n",
    "#         print (\"here\")\n",
    "        print(name, codechef, codeforces,spoj,leetcode,gfg)\n",
    "        options = Options()\n",
    "        options.add_argument('--headless')\n",
    "        self.driver = webdriver.Chrome(options=options)\n",
    "        \n",
    "#         profileStats = {\"name\": name}\n",
    "        \n",
    "        self.profiles = {\n",
    "            \"codechef\": {f\"https://www.codechef.com/users/{codechef}\": \"//h5[contains(text(), 'Fully Solved')]\"},\n",
    "            \"codeforces\": {f\"https://codeforces.com/profile/{codeforces}\": \"//div[contains(@class, '_UserActivityFrame_counterValue')]\"},\n",
    "            \"spoj\": {f\"https://www.spoj.com/users/{spoj}/\": \"//dl[contains(@class, 'profile-info-data')]/dd\"},\n",
    "            \"leetcode\": {f\"https://leetcode.com/{leetcode}/\": \"//div[contains(@class, 'font-medium text-label-1')]\"},\n",
    "            \"gfg\": {f\"https://auth.geeksforgeeks.org/user/{gfg}/practice\": \"//span[contains(@class, 'score_card_value')]\"},\n",
    "        }\n",
    "#         print(self.profiles)\n",
    "        print(self.getProfiles())\n",
    "#         print(totalQuestions)\n",
    "#         profileStats[\"total\"] = totalQuestions\n",
    "#         profileStatsDataFrame.append(profileStats, ignore_index = True)\n",
    "        \n",
    "        \n",
    "    \n",
    "    def getProfiles(self):\n",
    "#         print(\"here2\")\n",
    "        totalQuestions = 0\n",
    "        for platform, data in self.profiles.items():\n",
    "            for profile, query in data.items():\n",
    "#                 print(profile,\" -> \", query)\n",
    "                questions = self.runQuery(profile, query)\n",
    "                print(profile, \" \", questions, end=\"\\n\")\n",
    "#                 profileStats[platform] = questions\n",
    "                totalQuestions += int(questions)\n",
    "        return totalQuestions\n",
    "    \n",
    "    \n",
    "    def runQuery(self, profile, query):\n",
    "        try:\n",
    "            self.driver.get(profile)\n",
    "            element = WebDriverWait(self.driver, 5).until(\n",
    "                EC.presence_of_element_located((By.XPATH, query))\n",
    "            )\n",
    "            questions = int(re.search(r'\\d+', element.text).group())\n",
    "            return questions\n",
    "        except:\n",
    "            return '0'\n",
    "        \n"
   ]
  },
  {
   "cell_type": "code",
   "execution_count": null,
   "id": "fa0d35e7",
   "metadata": {},
   "outputs": [
    {
     "name": "stdout",
     "output_type": "stream",
     "text": [
      "sanchita sanchita170676 sanchita170676 lakshay0510 sanchitamishra170676 sanchitamishra170676\n",
      "https://www.codechef.com/users/sanchita170676   131\n",
      "this\n",
      "https://codeforces.com/profile/sanchita170676   38\n",
      "this\n",
      "https://www.spoj.com/users/lakshay0510/   10\n",
      "this\n",
      "https://leetcode.com/sanchitamishra170676/   136\n",
      "this\n",
      "https://auth.geeksforgeeks.org/user/sanchitamishra170676/practice   127\n",
      "this\n",
      "0\n",
      "sanchita\n",
      "Hem Kishan vyas_7275 hem_7275 hem_7275 hem_7275 hem_7275\n",
      "https://www.codechef.com/users/vyas_7275   12\n",
      "this\n"
     ]
    }
   ],
   "source": [
    "for ind in codingProfileData.index:\n",
    "    ProfileScraper(codingProfileData.loc[ind,\"Name\"],codingProfileData.loc[ind,\"Codechef\"],codingProfileData.loc[ind,\"Codeforces\"],codingProfileData.loc[ind,\"Spoj\"],codingProfileData.loc[ind,\"Leetcode\"],codingProfileData.loc[ind,\"Gfg\"])\n",
    "    print(codingProfileData.loc[ind,\"Name\"])"
   ]
  },
  {
   "cell_type": "code",
   "execution_count": null,
   "id": "c9464cf1",
   "metadata": {},
   "outputs": [],
   "source": []
  }
 ],
 "metadata": {
  "kernelspec": {
   "display_name": "Python 3 (ipykernel)",
   "language": "python",
   "name": "python3"
  },
  "language_info": {
   "codemirror_mode": {
    "name": "ipython",
    "version": 3
   },
   "file_extension": ".py",
   "mimetype": "text/x-python",
   "name": "python",
   "nbconvert_exporter": "python",
   "pygments_lexer": "ipython3",
   "version": "3.11.1"
  }
 },
 "nbformat": 4,
 "nbformat_minor": 5
}
