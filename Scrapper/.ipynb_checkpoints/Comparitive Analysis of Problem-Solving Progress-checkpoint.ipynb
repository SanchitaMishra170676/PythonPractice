{
 "cells": [
  {
   "cell_type": "code",
   "execution_count": 1,
   "id": "239023d2",
   "metadata": {},
   "outputs": [
    {
     "name": "stdout",
     "output_type": "stream",
     "text": [
      "Hello\n"
     ]
    }
   ],
   "source": [
    "print(\"Hello\")"
   ]
  },
  {
   "cell_type": "code",
   "execution_count": 4,
   "id": "08ac0697",
   "metadata": {},
   "outputs": [],
   "source": [
    "from selenium import webdriver\n",
    "from selenium.webdriver.common.by import By\n",
    "from selenium.webdriver.support.ui import WebDriverWait\n",
    "from selenium.webdriver.support import expected_conditions as EC\n",
    "from selenium.webdriver.chrome.options import Options\n",
    "import re"
   ]
  },
  {
   "cell_type": "code",
   "execution_count": 56,
   "id": "9dcb6bff",
   "metadata": {},
   "outputs": [],
   "source": [
    "class ProfileScraper():\n",
    "    def __init__(self):\n",
    "        print (\"here\")\n",
    "        \n",
    "        options = Options()\n",
    "        options.add_argument('--headless')\n",
    "        self.driver = webdriver.Chrome(options=options)\n",
    "        \n",
    "        self.profiles = {\n",
    "            \"codechef\": {\"https://www.codechef.com/users/sanchita170676\": \"//h5[contains(text(), 'Fully Solved')]\"},\n",
    "            \"codeforces\": {\"https://codeforces.com/profile/sanchita170676\": \"//div[contains(@class, '_UserActivityFrame_counterValue')]\"},\n",
    "            \"spoj\": {\"https://www.spoj.com/users/sanchita170676/\": \"//dl[contains(@class, 'profile-info-data')]/dd\"},\n",
    "            \"leetcode\": {\"https://leetcode.com/lakshay05/\": \"//div[contains(@class, 'font-medium text-label-1')]\"},\n",
    "            \"gfg\": {\"https://auth.geeksforgeeks.org/user/sanchitamishra170676/practice\": \"span[contains(@class, 'score_card_value')]\"},\n",
    "        }\n",
    "#         print(self.profiles)\n",
    "        print( self.getProfiles())\n",
    "        \n",
    "        \n",
    "    \n",
    "    def getProfiles(self):\n",
    "        print(\"here2\")\n",
    "        totalQuestions = 0\n",
    "        for platform, data in self.profiles.items():\n",
    "            for profile, query in data.items():\n",
    "#                 print(profile,\" -> \", query)\n",
    "                questions = self.runQuery(profile, query)\n",
    "                print(profile, \" \", questions, end=\"\\n\")\n",
    "                totalQuestions += int(questions)\n",
    "        return totalQuestions\n",
    "    \n",
    "    \n",
    "    def runQuery(self, profile, query):\n",
    "        try:\n",
    "            self.driver.get(profile)\n",
    "            element = WebDriverWait(self.driver, 5).until(\n",
    "                EC.presence_of_element_located((By.XPATH, query))\n",
    "            )\n",
    "            questions = int(re.search(r'\\d+', element.text).group())\n",
    "            return questions\n",
    "        except:\n",
    "            return '0'\n",
    "        \n"
   ]
  },
  {
   "cell_type": "code",
   "execution_count": 57,
   "id": "f70b06c4",
   "metadata": {},
   "outputs": [
    {
     "name": "stdout",
     "output_type": "stream",
     "text": [
      "here\n",
      "here2\n",
      "https://www.codechef.com/users/sanchita170676   131\n",
      "https://codeforces.com/profile/sanchita170676   38\n",
      "https://www.spoj.com/users/sanchita170676/   0\n",
      "https://leetcode.com/lakshay05/   1043\n",
      "https://auth.geeksforgeeks.org/user/sanchitamishra170676/practice   0\n",
      "1212\n"
     ]
    },
    {
     "data": {
      "text/plain": [
       "<__main__.ProfileScraper at 0x18b9782a890>"
      ]
     },
     "execution_count": 57,
     "metadata": {},
     "output_type": "execute_result"
    }
   ],
   "source": [
    "ProfileScraper()"
   ]
  },
  {
   "cell_type": "code",
   "execution_count": null,
   "id": "03cd389a",
   "metadata": {},
   "outputs": [],
   "source": []
  },
  {
   "cell_type": "code",
   "execution_count": null,
   "id": "08f6ab6b",
   "metadata": {},
   "outputs": [],
   "source": []
  }
 ],
 "metadata": {
  "kernelspec": {
   "display_name": "Python 3 (ipykernel)",
   "language": "python",
   "name": "python3"
  },
  "language_info": {
   "codemirror_mode": {
    "name": "ipython",
    "version": 3
   },
   "file_extension": ".py",
   "mimetype": "text/x-python",
   "name": "python",
   "nbconvert_exporter": "python",
   "pygments_lexer": "ipython3",
   "version": "3.11.1"
  }
 },
 "nbformat": 4,
 "nbformat_minor": 5
}
